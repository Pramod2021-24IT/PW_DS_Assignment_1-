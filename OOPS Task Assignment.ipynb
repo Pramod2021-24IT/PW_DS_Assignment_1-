{
 "cells": [
  {
   "cell_type": "markdown",
   "id": "2a88be29-ef47-46bc-9d75-ff0ff260b69d",
   "metadata": {},
   "source": [
    "#### Q1. Create a vehicle class with an init method having instance variables as name_of_vehicle, max_speed and average_of_vehicle."
   ]
  },
  {
   "cell_type": "code",
   "execution_count": 1,
   "id": "a7be6803-e1cf-43ee-a2c2-e244dafe4c34",
   "metadata": {},
   "outputs": [
    {
     "name": "stdout",
     "output_type": "stream",
     "text": [
      "Vehicle Name: Car\n",
      "Max Speed: 200 km/h\n",
      "Average: 15 km/l\n"
     ]
    }
   ],
   "source": [
    "class Vehicle:\n",
    "    def __init__(self, name_of_vehicle, max_speed, average_of_vehicle):\n",
    "        self.name_of_vehicle = name_of_vehicle\n",
    "        self.max_speed = max_speed\n",
    "        self.average_of_vehicle = average_of_vehicle\n",
    "\n",
    "# Example usage:\n",
    "car = Vehicle(\"Car\", 200, 15)\n",
    "print(f\"Vehicle Name: {car.name_of_vehicle}\")\n",
    "print(f\"Max Speed: {car.max_speed} km/h\")\n",
    "print(f\"Average: {car.average_of_vehicle} km/l\")\n"
   ]
  },
  {
   "cell_type": "markdown",
   "id": "385e524c-b374-4980-882a-c6bb7b4a448f",
   "metadata": {},
   "source": [
    "#### Q2. Create a child class car from the vehicle class created in Que 1, which will inherit the vehicle class. Create a method named seating_capacity which takes capacity as an argument and returns the name of the vehicle and its seating capacity."
   ]
  },
  {
   "cell_type": "code",
   "execution_count": 2,
   "id": "0948104c-c853-47ca-8b86-3581115eae30",
   "metadata": {},
   "outputs": [
    {
     "name": "stdout",
     "output_type": "stream",
     "text": [
      "The seating capacity of Car is 5.\n"
     ]
    }
   ],
   "source": [
    "class Vehicle:\n",
    "    def __init__(self, name_of_vehicle, max_speed, average_of_vehicle):\n",
    "        self.name_of_vehicle = name_of_vehicle\n",
    "        self.max_speed = max_speed\n",
    "        self.average_of_vehicle = average_of_vehicle\n",
    "\n",
    "class Car(Vehicle):\n",
    "    def seating_capacity(self, capacity):\n",
    "        return f\"The seating capacity of {self.name_of_vehicle} is {capacity}.\"\n",
    "\n",
    "# Example usage:\n",
    "my_car = Car(\"Car\", 200, 15)\n",
    "print(my_car.seating_capacity(5))\n"
   ]
  },
  {
   "cell_type": "markdown",
   "id": "a3067956-9ab7-40b2-a8ce-6d246cbb1024",
   "metadata": {},
   "source": [
    "#### Q3. What is multiple inheritance? Write a python code to demonstrate multiple inheritance."
   ]
  },
  {
   "cell_type": "code",
   "execution_count": 3,
   "id": "9d121fc3-9cd5-4907-82ac-46973f8a870e",
   "metadata": {},
   "outputs": [
    {
     "name": "stdout",
     "output_type": "stream",
     "text": [
      "Vehicle: Sedan, Engine: V8, Transmission: Automatic\n",
      "V8 engine started.\n",
      "Automatic transmission changed gear.\n"
     ]
    }
   ],
   "source": [
    "'''\n",
    "Multiple inheritance is a feature of some object-oriented programming languages in which a class can inherit attributes and methods from more than one parent class. This can be useful when you want to create a class that combines functionality from multiple sources.\n",
    "'''\n",
    "# Base class 1\n",
    "class Engine:\n",
    "    def __init__(self, engine_type):\n",
    "        self.engine_type = engine_type\n",
    "\n",
    "    def start_engine(self):\n",
    "        return f\"{self.engine_type} engine started.\"\n",
    "\n",
    "# Base class 2\n",
    "class Transmission:\n",
    "    def __init__(self, transmission_type):\n",
    "        self.transmission_type = transmission_type\n",
    "\n",
    "    def change_gear(self):\n",
    "        return f\"{self.transmission_type} transmission changed gear.\"\n",
    "\n",
    "# Derived class\n",
    "class Car(Engine, Transmission):\n",
    "    def __init__(self, name_of_vehicle, engine_type, transmission_type):\n",
    "        Engine.__init__(self, engine_type)\n",
    "        Transmission.__init__(self, transmission_type)\n",
    "        self.name_of_vehicle = name_of_vehicle\n",
    "\n",
    "    def get_vehicle_info(self):\n",
    "        return (f\"Vehicle: {self.name_of_vehicle}, \"\n",
    "                f\"Engine: {self.engine_type}, \"\n",
    "                f\"Transmission: {self.transmission_type}\")\n",
    "\n",
    "# Example usage\n",
    "my_car = Car(\"Sedan\", \"V8\", \"Automatic\")\n",
    "print(my_car.get_vehicle_info())\n",
    "print(my_car.start_engine())\n",
    "print(my_car.change_gear())\n"
   ]
  },
  {
   "cell_type": "markdown",
   "id": "e46fb222-543c-49e1-9c86-068a99fa605b",
   "metadata": {},
   "source": [
    "#### Q4. What are getter and setter in python? Create a class and create a getter and a setter method in this class."
   ]
  },
  {
   "cell_type": "code",
   "execution_count": 4,
   "id": "6b5ddf9f-5e5e-4707-a2dd-c44fb5fe4f3c",
   "metadata": {},
   "outputs": [
    {
     "name": "stdout",
     "output_type": "stream",
     "text": [
      "John\n",
      "30\n",
      "Alice\n",
      "25\n",
      "Name must be a string containing only alphabets\n",
      "Age must be a non-negative integer\n"
     ]
    }
   ],
   "source": [
    "'''\n",
    "In Python, getters and setters are methods used to access and modify the values of private instance variables. These methods provide a way to control how the attributes of an object are accessed and modified, allowing for validation or processing to be added when getting or setting the values.\n",
    "'''\n",
    "class Person:\n",
    "    def __init__(self, name, age):\n",
    "        self._name = name  # Private variable\n",
    "        self._age = age  # Private variable\n",
    "\n",
    "    # Getter for name\n",
    "    @property\n",
    "    def name(self):\n",
    "        return self._name\n",
    "\n",
    "    # Setter for name\n",
    "    @name.setter\n",
    "    def name(self, value):\n",
    "        if isinstance(value, str) and value.isalpha():\n",
    "            self._name = value\n",
    "        else:\n",
    "            raise ValueError(\"Name must be a string containing only alphabets\")\n",
    "\n",
    "    # Getter for age\n",
    "    @property\n",
    "    def age(self):\n",
    "        return self._age\n",
    "\n",
    "    # Setter for age\n",
    "    @age.setter\n",
    "    def age(self, value):\n",
    "        if isinstance(value, int) and value >= 0:\n",
    "            self._age = value\n",
    "        else:\n",
    "            raise ValueError(\"Age must be a non-negative integer\")\n",
    "\n",
    "# Example usage\n",
    "person = Person(\"John\", 30)\n",
    "\n",
    "# Accessing name and age using getter\n",
    "print(person.name)  # Output: John\n",
    "print(person.age)  # Output: 30\n",
    "\n",
    "# Modifying name and age using setter\n",
    "person.name = \"Alice\"\n",
    "person.age = 25\n",
    "\n",
    "print(person.name)  # Output: Alice\n",
    "print(person.age)  # Output: 25\n",
    "\n",
    "# Trying to set invalid name\n",
    "try:\n",
    "    person.name = \"Alice123\"  # This will raise an exception\n",
    "except ValueError as e:\n",
    "    print(e)  # Output: Name must be a string containing only alphabets\n",
    "\n",
    "# Trying to set invalid age\n",
    "try:\n",
    "    person.age = -5  # This will raise an exception\n",
    "except ValueError as e:\n",
    "    print(e)  # Output: Age must be a non-negative integer\n"
   ]
  },
  {
   "cell_type": "markdown",
   "id": "9e6c73be-1f27-43cc-8744-e2f28f97143b",
   "metadata": {},
   "source": [
    "#### Q5.What is method overriding in python? Write a python code to demonstrate method overriding."
   ]
  },
  {
   "cell_type": "code",
   "execution_count": 5,
   "id": "67b2bed9-c900-459b-ae51-b096dbefb536",
   "metadata": {},
   "outputs": [
    {
     "name": "stdout",
     "output_type": "stream",
     "text": [
      "This animal makes a sound\n",
      "The dog barks\n",
      "The cat meows\n"
     ]
    }
   ],
   "source": [
    "'''\n",
    "Method overriding in Python occurs when a subclass defines a method that has the same name as a method in its superclass. The subclass method overrides the superclass method, allowing the subclass to provide a specific implementation of the method.\n",
    "'''\n",
    "class Animal:\n",
    "    def make_sound(self):\n",
    "        print(\"This animal makes a sound\")\n",
    "\n",
    "class Dog(Animal):\n",
    "    def make_sound(self):\n",
    "        print(\"The dog barks\")\n",
    "\n",
    "class Cat(Animal):\n",
    "    def make_sound(self):\n",
    "        print(\"The cat meows\")\n",
    "\n",
    "# Creating instances of Animal, Dog, and Cat\n",
    "animal = Animal()\n",
    "dog = Dog()\n",
    "cat = Cat()\n",
    "\n",
    "# Calling the make_sound method on each instance\n",
    "animal.make_sound()  # Output: This animal makes a sound\n",
    "dog.make_sound()     # Output: The dog barks\n",
    "cat.make_sound()     # Output: The cat meows\n"
   ]
  },
  {
   "cell_type": "code",
   "execution_count": null,
   "id": "d80bc7e9-9f92-4ede-ac4e-000dd7085c03",
   "metadata": {},
   "outputs": [],
   "source": []
  }
 ],
 "metadata": {
  "kernelspec": {
   "display_name": "Python 3 (ipykernel)",
   "language": "python",
   "name": "python3"
  },
  "language_info": {
   "codemirror_mode": {
    "name": "ipython",
    "version": 3
   },
   "file_extension": ".py",
   "mimetype": "text/x-python",
   "name": "python",
   "nbconvert_exporter": "python",
   "pygments_lexer": "ipython3",
   "version": "3.11.7"
  }
 },
 "nbformat": 4,
 "nbformat_minor": 5
}
