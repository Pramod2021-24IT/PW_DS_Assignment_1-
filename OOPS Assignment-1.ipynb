{
 "cells": [
  {
   "cell_type": "markdown",
   "id": "58527fc1-38e9-4a5c-94ff-13b48b168a94",
   "metadata": {},
   "source": [
    "#### Q1. Explain Class and Object with respect to Object-Oriented Programming. Give a suitable example."
   ]
  },
  {
   "cell_type": "code",
   "execution_count": 9,
   "id": "30b719c8-5ca0-474e-ae97-392b75a6d5a9",
   "metadata": {},
   "outputs": [
    {
     "name": "stdout",
     "output_type": "stream",
     "text": [
      "Car Info: 2020 Toyota Corolla, Color: Red\n",
      "The Toyota Corolla's engine has started.\n"
     ]
    }
   ],
   "source": [
    "'''\n",
    "Class:\n",
    "A class is a blueprint or template for creating objects. \n",
    "It defines a set of attributes and methods that the created objects (instances) will have.\n",
    "Classes encapsulate data for the object and methods to manipulate that data.\n",
    "\n",
    "Object:\n",
    "An object is an instance of a class. \n",
    "It is a specific implementation of the class with actual values assigned to the attributes defined in the class. \n",
    "Objects can interact with one another using the methods defined in their class.\n",
    "'''\n",
    "# Define a class named Car\n",
    "class Car:\n",
    "    # Initialize the class with attributes: make, model, year, and color\n",
    "    def __init__(self, make, model, year, color):\n",
    "        self.make = make\n",
    "        self.model = model\n",
    "        self.year = year\n",
    "        self.color = color\n",
    "\n",
    "    # Define a method to display information about the car\n",
    "    def display_info(self):\n",
    "        print(f\"Car Info: {self.year} {self.make} {self.model}, Color: {self.color}\")\n",
    "\n",
    "    # Define a method to start the car\n",
    "    def start_engine(self):\n",
    "        print(f\"The {self.make} {self.model}'s engine has started.\")\n",
    "\n",
    "# Create an object of the Car class\n",
    "my_car = Car(\"Toyota\", \"Corolla\", 2020, \"Red\")\n",
    "\n",
    "# Use the object to call methods defined in the Car class\n",
    "my_car.display_info()     # Output: Car Info: 2020 Toyota Corolla, Color: Red\n",
    "my_car.start_engine()     # Output: The Toyota Corolla's engine has started.\n"
   ]
  },
  {
   "cell_type": "markdown",
   "id": "61c77547-ad15-4d67-a4c4-91ae3d93b6ed",
   "metadata": {},
   "source": [
    "#### Q2. Name the four pillars of OOPs."
   ]
  },
  {
   "cell_type": "code",
   "execution_count": 2,
   "id": "1281b06b-b7ae-45d2-a1ce-52e87c7d7295",
   "metadata": {},
   "outputs": [
    {
     "name": "stdout",
     "output_type": "stream",
     "text": [
      "The engine of the car Toyota Corolla is starting.\n",
      "The engine of the bike Yamaha MT-07 is starting.\n",
      "50\n",
      "120\n"
     ]
    }
   ],
   "source": [
    "'''\n",
    "\n",
    "The four pillars of Object-Oriented Programming (OOP) are:\n",
    "\n",
    "Encapsulation:\n",
    "\n",
    "Encapsulation is the concept of wrapping the data (variables) and code (methods) together as a single unit. \n",
    "It restricts direct access to some of an object's components, which can prevent the accidental modification of data. \n",
    "It also allows for data hiding, where the internal representation of an object is hidden from the outside.\n",
    "Inheritance:\n",
    "\n",
    "Inheritance is a mechanism where a new class inherits properties and behavior (methods) from an existing class. \n",
    "The new class, called the derived or child class, inherits the attributes and methods of the parent or base class, \n",
    "allowing for code reusability and the creation of a hierarchical relationship between classes.\n",
    "Polymorphism:\n",
    "\n",
    "Polymorphism allows objects to be treated as instances of their parent class rather than their actual class. \n",
    "It enables a single interface to represent different underlying data types.\n",
    "The two main types of polymorphism are compile-time (method overloading) and runtime (method overriding).\n",
    "Abstraction:\n",
    "\n",
    "Abstraction is the concept of hiding the complex implementation details and showing only the essential features of the object. It simplifies the interface with the object by allowing the user to interact with it without needing to understand the underlying complexity. Abstraction is often achieved through abstract classes and interfaces.\n",
    "'''\n",
    "\n",
    "from abc import ABC, abstractmethod\n",
    "\n",
    "# Abstraction: Abstract class Vehicle\n",
    "class Vehicle(ABC):\n",
    "    def __init__(self, make, model):\n",
    "        self.make = make\n",
    "        self.model = model\n",
    "\n",
    "    @abstractmethod\n",
    "    def start_engine(self):\n",
    "        pass\n",
    "\n",
    "# Inheritance: Car and Bike classes inherit from Vehicle\n",
    "class Car(Vehicle):\n",
    "    def start_engine(self):\n",
    "        return f\"The engine of the car {self.make} {self.model} is starting.\"\n",
    "\n",
    "class Bike(Vehicle):\n",
    "    def start_engine(self):\n",
    "        return f\"The engine of the bike {self.make} {self.model} is starting.\"\n",
    "\n",
    "# Polymorphism: Treating objects of Car and Bike as Vehicle\n",
    "def start_vehicle(vehicle):\n",
    "    print(vehicle.start_engine())\n",
    "\n",
    "# Encapsulation: Private attribute with getter and setter\n",
    "class EncapsulatedCar:\n",
    "    def __init__(self, make, model, speed):\n",
    "        self.make = make\n",
    "        self.model = model\n",
    "        self.__speed = speed  # Private attribute\n",
    "\n",
    "    def get_speed(self):\n",
    "        return self.__speed\n",
    "\n",
    "    def set_speed(self, speed):\n",
    "        if 0 <= speed <= 200:\n",
    "            self.__speed = speed\n",
    "        else:\n",
    "            raise ValueError(\"Speed must be between 0 and 200.\")\n",
    "\n",
    "# Example usage\n",
    "car = Car(\"Toyota\", \"Corolla\")\n",
    "bike = Bike(\"Yamaha\", \"MT-07\")\n",
    "\n",
    "start_vehicle(car)  # Polymorphism\n",
    "start_vehicle(bike)  # Polymorphism\n",
    "\n",
    "my_car = EncapsulatedCar(\"Honda\", \"Civic\", 50)\n",
    "print(my_car.get_speed())  # Encapsulation\n",
    "my_car.set_speed(120)  # Encapsulation\n",
    "print(my_car.get_speed())  # Encapsulation\n"
   ]
  },
  {
   "cell_type": "markdown",
   "id": "2def3cbc-8bb3-40f2-809c-ab725dd217e5",
   "metadata": {},
   "source": [
    "#### Q3. Explain why the __init__() function is used. Give a suitable example."
   ]
  },
  {
   "cell_type": "code",
   "execution_count": 3,
   "id": "e1eae782-1425-47e7-a63b-2afcbcc35800",
   "metadata": {},
   "outputs": [
    {
     "name": "stdout",
     "output_type": "stream",
     "text": [
      "Hello, my name is Alice and I am 30 years old.\n",
      "Hello, my name is Bob and I am 25 years old.\n"
     ]
    }
   ],
   "source": [
    "'''\n",
    "The __init__() function in Python is a special method that is automatically called when an instance of a class is created. It is used to initialize the object's attributes and perform any setup operations required for the object. The __init__() function allows you to set the initial state of an object by assigning values to its properties when the object is created.\n",
    "\n",
    "Why __init__() is Used:\n",
    "Initialization: It allows the initialization of attributes when an object is created, providing a way to pass parameters and set initial values.\n",
    "Setup Operations: Any setup operations that are necessary for the object can be performed in the __init__() method.\n",
    "Encapsulation: It encapsulates the creation logic of an object, making the class easier to use and reducing the likelihood of errors.\n",
    "'''\n",
    "class Person:\n",
    "    def __init__(self, name, age):\n",
    "        # The __init__ method initializes the object's attributes\n",
    "        self.name = name\n",
    "        self.age = age\n",
    "    \n",
    "    def greet(self):\n",
    "        return f\"Hello, my name is {self.name} and I am {self.age} years old.\"\n",
    "\n",
    "# Creating an instance of the Person class\n",
    "person1 = Person(\"Alice\", 30)\n",
    "person2 = Person(\"Bob\", 25)\n",
    "\n",
    "# Using the instance methods\n",
    "print(person1.greet())  # Output: Hello, my name is Alice and I am 30 years old.\n",
    "print(person2.greet())  # Output: Hello, my name is Bob and I am 25 years old.\n",
    "\n"
   ]
  },
  {
   "cell_type": "markdown",
   "id": "6d61d4e7-a9ac-4de3-bde7-7ea8c579f4b2",
   "metadata": {},
   "source": [
    "#### Q4. Why self is used in OOPs?"
   ]
  },
  {
   "cell_type": "code",
   "execution_count": 4,
   "id": "e8f17943-e07c-4d8f-8516-7505ed9aa198",
   "metadata": {},
   "outputs": [
    {
     "name": "stdout",
     "output_type": "stream",
     "text": [
      "Toyota Camry, Mileage: 50\n"
     ]
    }
   ],
   "source": [
    "'''\n",
    "In Python's object-oriented programming (OOP):\n",
    "\n",
    "self: It's a convention to use self as the first parameter in method definitions within a class. It refers to the instance of the class itself, allowing instance methods to access and modify the object's attributes and methods.\n",
    "\n",
    "Purpose: self is crucial for:\n",
    "\n",
    "Instance Method Access: Enables methods to operate on instance-specific data.\n",
    "Attribute Differentiation: Distinguishes instance attributes from class attributes.\n",
    "Constructor (__init__): Initializes instance attributes during object creation.\n",
    "Method Invocation: Ensures methods know which instance's data to operate on.\n",
    "Method Visibility: Maintains access to methods within the object's scope.\n",
    "\n",
    "'''\n",
    "class Car:\n",
    "    def __init__(self, brand, model):\n",
    "        self.brand = brand\n",
    "        self.model = model\n",
    "        self.mileage = 0\n",
    "\n",
    "    def drive(self, distance):\n",
    "        self.mileage += distance\n",
    "\n",
    "    def details(self):\n",
    "        return f\"{self.brand} {self.model}, Mileage: {self.mileage}\"\n",
    "\n",
    "car1 = Car(\"Toyota\", \"Camry\")\n",
    "car1.drive(50)\n",
    "print(car1.details())  # Output: Toyota Camry, Mileage: 50\n"
   ]
  },
  {
   "cell_type": "markdown",
   "id": "2e1e49f1-7bb5-496b-9720-e4da51c850fe",
   "metadata": {},
   "source": [
    "#### Q5. What is inheritance? Give an example for each type of inheritance."
   ]
  },
  {
   "cell_type": "markdown",
   "id": "dc9448ae-f917-43f0-8642-60c0b8defd7c",
   "metadata": {},
   "source": [
    "Inheritance is a fundamental concept in object-oriented programming (OOP) where a class (known as a child or subclass) can inherit attributes and methods from another class (known as a parent or superclass). This allows classes to reuse code and establish a hierarchy of classes based on their relationships."
   ]
  },
  {
   "cell_type": "markdown",
   "id": "5a37b0a2-4f84-4bef-8ec6-48aefb2c6c48",
   "metadata": {},
   "source": [
    "##### Types of Inheritance:\n",
    "1. Single Inheritance:\n",
    "\n",
    "- In single inheritance, a subclass inherits from a single superclass."
   ]
  },
  {
   "cell_type": "code",
   "execution_count": 5,
   "id": "1abdd003-326a-4802-88a2-938d13b754f0",
   "metadata": {},
   "outputs": [
    {
     "name": "stdout",
     "output_type": "stream",
     "text": [
      "Animal makes a sound\n",
      "Dog barks\n"
     ]
    }
   ],
   "source": [
    "class Animal:\n",
    "    def sound(self):\n",
    "        print(\"Animal makes a sound\")\n",
    "\n",
    "class Dog(Animal):\n",
    "    def bark(self):\n",
    "        print(\"Dog barks\")\n",
    "\n",
    "# Dog inherits from Animal\n",
    "d = Dog()\n",
    "d.sound()  # Output: Animal makes a sound\n",
    "d.bark()   # Output: Dog barks\n"
   ]
  },
  {
   "cell_type": "markdown",
   "id": "93acc117-22b3-4e7b-91f2-57820c64411c",
   "metadata": {},
   "source": [
    "2. Multiple Inheritance:\n",
    "\n",
    "- Multiple inheritance allows a subclass to inherit from multiple superclasses."
   ]
  },
  {
   "cell_type": "code",
   "execution_count": 6,
   "id": "1a9adffb-ee82-423d-8688-496b560482cd",
   "metadata": {},
   "outputs": [
    {
     "name": "stdout",
     "output_type": "stream",
     "text": [
      "Method A\n",
      "Method B\n",
      "Method C\n"
     ]
    }
   ],
   "source": [
    "class A:\n",
    "    def method_A(self):\n",
    "        print(\"Method A\")\n",
    "\n",
    "class B:\n",
    "    def method_B(self):\n",
    "        print(\"Method B\")\n",
    "\n",
    "class C(A, B):  # C inherits from both A and B\n",
    "    def method_C(self):\n",
    "        print(\"Method C\")\n",
    "\n",
    "# C inherits methods from A and B\n",
    "c = C()\n",
    "c.method_A()  # Output: Method A\n",
    "c.method_B()  # Output: Method B\n",
    "c.method_C()  # Output: Method C\n"
   ]
  },
  {
   "cell_type": "markdown",
   "id": "753a6ed5-2a8e-4882-b845-43ad5abbb2bf",
   "metadata": {},
   "source": [
    "3. Multilevel Inheritance:\n",
    "\n",
    "- Multilevel inheritance involves a chain of inheritance where one class serves as a superclass for another class, and that subclass can in turn become a superclass for another class, and so on."
   ]
  },
  {
   "cell_type": "code",
   "execution_count": 7,
   "id": "82d7463a-a970-4725-b32d-7c3f64479584",
   "metadata": {},
   "outputs": [
    {
     "name": "stdout",
     "output_type": "stream",
     "text": [
      "Method A\n",
      "Method B\n",
      "Method C\n"
     ]
    }
   ],
   "source": [
    "class A:\n",
    "    def method_A(self):\n",
    "        print(\"Method A\")\n",
    "\n",
    "class B(A):\n",
    "    def method_B(self):\n",
    "        print(\"Method B\")\n",
    "\n",
    "class C(B):\n",
    "    def method_C(self):\n",
    "        print(\"Method C\")\n",
    "\n",
    "# C inherits from B, which inherits from A\n",
    "c = C()\n",
    "c.method_A()  # Output: Method A\n",
    "c.method_B()  # Output: Method B\n",
    "c.method_C()  # Output: Method C\n"
   ]
  },
  {
   "cell_type": "markdown",
   "id": "3902e0e5-ec66-4a3e-bd94-1af5dbba5b9b",
   "metadata": {},
   "source": [
    "4. Hierarchical Inheritance:\n",
    "\n",
    "- Hierarchical inheritance involves multiple subclasses inheriting from a single superclass."
   ]
  },
  {
   "cell_type": "code",
   "execution_count": 8,
   "id": "4450d0e5-8131-41a3-9fcf-8c36d5629406",
   "metadata": {},
   "outputs": [
    {
     "name": "stdout",
     "output_type": "stream",
     "text": [
      "Animal makes a sound\n",
      "Dog barks\n",
      "Animal makes a sound\n",
      "Cat meows\n"
     ]
    }
   ],
   "source": [
    "class Animal:\n",
    "    def sound(self):\n",
    "        print(\"Animal makes a sound\")\n",
    "\n",
    "class Dog(Animal):\n",
    "    def bark(self):\n",
    "        print(\"Dog barks\")\n",
    "\n",
    "class Cat(Animal):\n",
    "    def meow(self):\n",
    "        print(\"Cat meows\")\n",
    "\n",
    "# Dog and Cat inherit from Animal\n",
    "d = Dog()\n",
    "d.sound()  # Output: Animal makes a sound\n",
    "d.bark()   # Output: Dog barks\n",
    "\n",
    "c = Cat()\n",
    "c.sound()  # Output: Animal makes a sound\n",
    "c.meow()   # Output: Cat meows\n"
   ]
  },
  {
   "cell_type": "code",
   "execution_count": null,
   "id": "7e5b899c-32b4-4a00-a87b-2164b9fa32cc",
   "metadata": {},
   "outputs": [],
   "source": []
  }
 ],
 "metadata": {
  "kernelspec": {
   "display_name": "Python 3 (ipykernel)",
   "language": "python",
   "name": "python3"
  },
  "language_info": {
   "codemirror_mode": {
    "name": "ipython",
    "version": 3
   },
   "file_extension": ".py",
   "mimetype": "text/x-python",
   "name": "python",
   "nbconvert_exporter": "python",
   "pygments_lexer": "ipython3",
   "version": "3.11.7"
  }
 },
 "nbformat": 4,
 "nbformat_minor": 5
}
