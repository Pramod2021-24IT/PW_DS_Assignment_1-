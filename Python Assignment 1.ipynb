{
 "cells": [
  {
   "cell_type": "markdown",
   "id": "86e8cb4e-a390-43ba-b7ba-7a0a18fc9e84",
   "metadata": {},
   "source": [
    "**Q1. Which keyword is used to create a function? Create a function to return a list of odd numbers in the \n",
    "range of 1 to 25**."
   ]
  },
  {
   "cell_type": "code",
   "execution_count": 1,
   "id": "34b9bf56-eed3-4762-8c1b-eea1a93b0614",
   "metadata": {},
   "outputs": [
    {
     "name": "stdout",
     "output_type": "stream",
     "text": [
      "[1, 3, 5, 7, 9, 11, 13, 15, 17, 19, 21, 23, 25]\n"
     ]
    }
   ],
   "source": [
    "# A1. 'def' keyword is used to create a function.\n",
    "def odd_numbers():\n",
    "    odd_nums = []\n",
    "    for num in range(1, 26):\n",
    "        if num % 2 != 0:\n",
    "            odd_nums.append(num)\n",
    "    return odd_nums\n",
    "\n",
    "# Call the function and print the result\n",
    "print(odd_numbers())\n"
   ]
  },
  {
   "cell_type": "markdown",
   "id": "f7df42e7-cfcc-4a7a-bffe-d183130a0047",
   "metadata": {},
   "source": [
    "#### Q2. Why *args and **kwargs is used in some functions? Create a function each for *args and **kwargs to demonstrate their use."
   ]
  },
  {
   "cell_type": "markdown",
   "id": "ea023624-8594-4e30-bbdb-37e68156567a",
   "metadata": {},
   "source": [
    "A2. *args and **kwargs are used in Python functions to handle variable numbers of arguments (*args) and keyword arguments (**kwargs), respectively. They provide flexibility and allow functions to accept a varying number of arguments or keyword arguments without explicitly defining each parameter."
   ]
  },
  {
   "cell_type": "markdown",
   "id": "03e876d9-60ab-4582-a86a-b691388acc08",
   "metadata": {},
   "source": [
    "# Using *args\n",
    "def sum_values(*args):\n",
    "    total = 0\n",
    "    for num in args:\n",
    "        total += num\n",
    "    return total\n",
    "\n",
    "# Example:\n",
    "print(sum_values(1, 2, 3))\n",
    "print(sum_values(1, 2, 3, 4, 5))\n"
   ]
  },
  {
   "cell_type": "code",
   "execution_count": 4,
   "id": "2a9c137f-6b05-4556-b842-397f2f387b1c",
   "metadata": {},
   "outputs": [
    {
     "name": "stdout",
     "output_type": "stream",
     "text": [
      "Name: Rahul\n",
      "Age: 30\n",
      "City: Gorakhpur\n"
     ]
    }
   ],
   "source": [
    "# Using **kwargs\n",
    "def print_values(**kwargs):\n",
    "    for key, value in kwargs.items():\n",
    "        print(f\"{key}: {value}\")\n",
    "\n",
    "# Example:\n",
    "print_values(Name=\"Rahul\", Age=30, City=\"Gorakhpur\")\n"
   ]
  },
  {
   "cell_type": "markdown",
   "id": "1ccec7be-e306-4d6b-a6dc-152c72f28277",
   "metadata": {},
   "source": [
    "#### Q3. What is an iterator in python? Name the method used to initialise the iterator object and the method used for iteration. Use these methods to print the first five elements of the given list [2, 4, 6, 8, 10, 12, 14, 16, 18, 20]."
   ]
  },
  {
   "cell_type": "raw",
   "id": "4c70ec13-8045-43a0-afa4-ad6fc43a1d7b",
   "metadata": {},
   "source": [
    "A3. An iterator in Python represents an object that can be iterated upon, meaning it can be used in a for loop or passed to any function expecting an iterable object. Iterators in Python implement two methods: __iter__() and __next__().\n",
    "\n",
    "1. __iter__(): This method initializes the iterator object and returns the iterator itself. It is called when the iterator is initialized using the iter() function or automatically when used in a for loop.\n",
    "\n",
    "2. __next__(): This method retrieves the next item from the iterator. It raises a StopIteration exception when there are no more items to return."
   ]
  },
  {
   "cell_type": "code",
   "execution_count": 6,
   "id": "5d197765-39bf-4338-a079-36fea72e321e",
   "metadata": {},
   "outputs": [
    {
     "name": "stdout",
     "output_type": "stream",
     "text": [
      "2\n",
      "4\n",
      "6\n",
      "8\n",
      "10\n"
     ]
    }
   ],
   "source": [
    "# Define the list\n",
    "my_list = [2, 4, 6, 8, 10, 12, 14, 16, 18, 20]\n",
    "\n",
    "# Create an iterator object\n",
    "my_iter = iter(my_list)\n",
    "\n",
    "# Iterate over the first five elements using next() function\n",
    "for _ in range(5):\n",
    "    print(next(my_iter))\n"
   ]
  },
  {
   "cell_type": "markdown",
   "id": "bdaa7b9c-c9a5-4fce-b6cc-509c97077626",
   "metadata": {},
   "source": [
    "#### Q4. What is a generator function in python? Why yield keyword is used? Give an example of a generator \n",
    "function."
   ]
  },
  {
   "cell_type": "markdown",
   "id": "e2cbce53-476b-4d17-a049-35029f17bced",
   "metadata": {},
   "source": [
    "A generator function in Python is a special type of function that allows you to define an iterative algorithm by writing a single function that can maintain its state across multiple calls. This is achieved using the yield keyword. Unlike regular functions that use return to return a value and terminate, generator functions use yield to produce a sequence of values over time, suspending their execution state between calls.\n",
    "\n",
    "Lazy Evaluation: Generator functions produce values only when needed, making them memory efficient because they don't store all values in memory at once. Values are generated on the fly during iteration.\n",
    "\n",
    "State Maintenance: Generator functions retain their local variables and execution state between calls to yield. This allows them to resume execution where they left off when called again."
   ]
  },
  {
   "cell_type": "code",
   "execution_count": 7,
   "id": "c9cb6bab-00b8-4e5d-86c0-49774d8fbd51",
   "metadata": {},
   "outputs": [
    {
     "name": "stdout",
     "output_type": "stream",
     "text": [
      "1\n",
      "4\n",
      "9\n",
      "16\n",
      "25\n"
     ]
    }
   ],
   "source": [
    "def squares_up_to(limit):\n",
    "    num = 1\n",
    "    while num <= limit:\n",
    "        yield num * num\n",
    "        num += 1\n",
    "\n",
    "# Using the generator function\n",
    "gen = squares_up_to(5)\n",
    "\n",
    "# Iterating over the generator\n",
    "for square in gen:\n",
    "    print(square)\n"
   ]
  },
  {
   "cell_type": "markdown",
   "id": "922f6515-6638-41d7-8a98-1ccdb09e45a2",
   "metadata": {},
   "source": [
    "#### Q5. Create a generator function for prime numbers less than 1000. Use the next() method to print the \n",
    "first 20 prime numbers."
   ]
  },
  {
   "cell_type": "code",
   "execution_count": 8,
   "id": "7b6b1985-5a05-4d46-a5d9-be01650f410b",
   "metadata": {},
   "outputs": [
    {
     "name": "stdout",
     "output_type": "stream",
     "text": [
      "2\n",
      "3\n",
      "5\n",
      "7\n",
      "11\n",
      "13\n",
      "17\n",
      "19\n",
      "23\n",
      "29\n",
      "31\n",
      "37\n",
      "41\n",
      "43\n",
      "47\n",
      "53\n",
      "59\n",
      "61\n",
      "67\n",
      "71\n"
     ]
    }
   ],
   "source": [
    "def prime_generator(limit):\n",
    "    def is_prime(n):\n",
    "        if n <= 1:\n",
    "            return False\n",
    "        if n <= 3:\n",
    "            return True\n",
    "        if n % 2 == 0 or n % 3 == 0:\n",
    "            return False\n",
    "        i = 5\n",
    "        while i * i <= n:\n",
    "            if n % i == 0 or n % (i + 2) == 0:\n",
    "                return False\n",
    "            i += 6\n",
    "        return True\n",
    "\n",
    "    for num in range(2, limit):\n",
    "        if is_prime(num):\n",
    "            yield num\n",
    "\n",
    "# Using the generator function to get prime numbers less than 1000\n",
    "prime_gen = prime_generator(1000)\n",
    "\n",
    "# Using the next() method to print the first 20 prime numbers\n",
    "for _ in range(20):\n",
    "    print(next(prime_gen))\n"
   ]
  },
  {
   "cell_type": "markdown",
   "id": "40866107-7a7e-47d9-94e1-fcb2857e07ea",
   "metadata": {},
   "source": [
    "#### Q6. Write a python program to print the first 10 Fibonacci numbers using a while loop."
   ]
  },
  {
   "cell_type": "code",
   "execution_count": 9,
   "id": "d5ed171f-05ac-407e-836b-869e352f8bb7",
   "metadata": {},
   "outputs": [
    {
     "name": "stdout",
     "output_type": "stream",
     "text": [
      "0\n",
      "1\n",
      "1\n",
      "2\n",
      "3\n",
      "5\n",
      "8\n",
      "13\n",
      "21\n",
      "34\n"
     ]
    }
   ],
   "source": [
    "a, b = 0, 1\n",
    "count = 0\n",
    "\n",
    "while count < 10:\n",
    "    print(a)\n",
    "    a, b = b, a + b\n",
    "    count += 1\n"
   ]
  },
  {
   "cell_type": "markdown",
   "id": "2ed78c05-7180-449a-9418-6e2ba929af0d",
   "metadata": {},
   "source": [
    "#### Q7. Write a List Comprehension to iterate through the given string: ‘pwskills’. Expected output: ['p', 'w', 's', 'k', 'i', 'l', 'l', 's']"
   ]
  },
  {
   "cell_type": "code",
   "execution_count": 10,
   "id": "658966b1-3aaf-41b2-b397-17428d990898",
   "metadata": {},
   "outputs": [
    {
     "name": "stdout",
     "output_type": "stream",
     "text": [
      "['p', 'w', 's', 'k', 'i', 'l', 'l', 's']\n"
     ]
    }
   ],
   "source": [
    "string = 'pwskills'\n",
    "output = [char for char in string if char in 'pwskills']\n",
    "print(output)\n"
   ]
  },
  {
   "cell_type": "markdown",
   "id": "3e9d7f55-c2d6-4923-be68-a27a31bfd529",
   "metadata": {},
   "source": [
    "#### Q8. Write a python program to check whether a given number is Palindrome or not using a while loop."
   ]
  },
  {
   "cell_type": "code",
   "execution_count": 11,
   "id": "b83a3b64-2460-46c0-a86d-86c5c882cff4",
   "metadata": {},
   "outputs": [
    {
     "name": "stdin",
     "output_type": "stream",
     "text": [
      "Enter a number:  11\n"
     ]
    },
    {
     "name": "stdout",
     "output_type": "stream",
     "text": [
      "11 is a palindrome.\n"
     ]
    }
   ],
   "source": [
    "def is_palindrome(num):\n",
    "    original_num = num\n",
    "    reversed_num = 0\n",
    "    \n",
    "    while num > 0:\n",
    "        remainder = num % 10\n",
    "        reversed_num = (reversed_num * 10) + remainder\n",
    "        num = num // 10\n",
    "    \n",
    "    return original_num == reversed_num\n",
    "\n",
    "# Example usage\n",
    "number = int(input(\"Enter a number: \"))\n",
    "if is_palindrome(number):\n",
    "    print(f\"{number} is a palindrome.\")\n",
    "else:\n",
    "    print(f\"{number} is not a palindrome.\")\n"
   ]
  },
  {
   "cell_type": "markdown",
   "id": "0d213020-1368-4848-bad5-0329fb09fb5e",
   "metadata": {},
   "source": [
    "#### Q9. Write a code to print odd numbers from 1 to 100 using list comprehension.\n",
    "Note: Use a list comprehension to create a list from 1 to 100 and use another List comprehension to filter\n",
    "out odd numbers."
   ]
  },
  {
   "cell_type": "code",
   "execution_count": 13,
   "id": "23bfd285-80bb-4fea-ace0-2ee882a8975d",
   "metadata": {},
   "outputs": [
    {
     "name": "stdout",
     "output_type": "stream",
     "text": [
      "[1, 3, 5, 7, 9, 11, 13, 15, 17, 19, 21, 23, 25, 27, 29, 31, 33, 35, 37, 39, 41, 43, 45, 47, 49, 51, 53, 55, 57, 59, 61, 63, 65, 67, 69, 71, 73, 75, 77, 79, 81, 83, 85, 87, 89, 91, 93, 95, 97, 99]\n"
     ]
    }
   ],
   "source": [
    "# List comprehension to create a list from 1 to 100\n",
    "numbers = [i for i in range(1, 101)]\n",
    "\n",
    "# List comprehension to filter out odd numbers\n",
    "odd_numbers = [num for num in numbers if num % 2 != 0]\n",
    "\n",
    "print(odd_numbers)\n"
   ]
  },
  {
   "cell_type": "code",
   "execution_count": null,
   "id": "902d16a9-1b47-48e6-b214-8b879870780d",
   "metadata": {},
   "outputs": [],
   "source": []
  }
 ],
 "metadata": {
  "kernelspec": {
   "display_name": "Python 3 (ipykernel)",
   "language": "python",
   "name": "python3"
  },
  "language_info": {
   "codemirror_mode": {
    "name": "ipython",
    "version": 3
   },
   "file_extension": ".py",
   "mimetype": "text/x-python",
   "name": "python",
   "nbconvert_exporter": "python",
   "pygments_lexer": "ipython3",
   "version": "3.11.7"
  }
 },
 "nbformat": 4,
 "nbformat_minor": 5
}
