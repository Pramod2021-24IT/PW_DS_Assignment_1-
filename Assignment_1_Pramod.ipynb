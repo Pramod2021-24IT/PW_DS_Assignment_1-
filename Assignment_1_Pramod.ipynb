{
 "cells": [
  {
   "cell_type": "markdown",
   "metadata": {},
   "source": [
    "### A1."
   ]
  },
  {
   "cell_type": "code",
   "execution_count": 1,
   "metadata": {},
   "outputs": [],
   "source": [
    "req_var = (\"string\", [1, 2 , 3], 5.015, (\"tupple\", \"element\"))"
   ]
  },
  {
   "cell_type": "code",
   "execution_count": 2,
   "metadata": {},
   "outputs": [
    {
     "name": "stdout",
     "output_type": "stream",
     "text": [
      "<class 'tuple'>\n"
     ]
    }
   ],
   "source": [
    "print(type(req_var))"
   ]
  },
  {
   "cell_type": "code",
   "execution_count": 3,
   "metadata": {},
   "outputs": [
    {
     "name": "stdout",
     "output_type": "stream",
     "text": [
      "<class 'str'>\n"
     ]
    }
   ],
   "source": [
    "print(type(req_var[0]))"
   ]
  },
  {
   "cell_type": "code",
   "execution_count": 4,
   "metadata": {},
   "outputs": [
    {
     "name": "stdout",
     "output_type": "stream",
     "text": [
      "<class 'list'>\n"
     ]
    }
   ],
   "source": [
    "print(type(req_var[1]))"
   ]
  },
  {
   "cell_type": "code",
   "execution_count": 5,
   "metadata": {},
   "outputs": [
    {
     "name": "stdout",
     "output_type": "stream",
     "text": [
      "<class 'float'>\n"
     ]
    }
   ],
   "source": [
    "print(type(req_var[2]))"
   ]
  },
  {
   "cell_type": "code",
   "execution_count": 6,
   "metadata": {},
   "outputs": [
    {
     "name": "stdout",
     "output_type": "stream",
     "text": [
      "<class 'tuple'>\n"
     ]
    }
   ],
   "source": [
    "print(type(req_var[3]))"
   ]
  },
  {
   "cell_type": "markdown",
   "metadata": {},
   "source": [
    "### A2."
   ]
  },
  {
   "cell_type": "code",
   "execution_count": 7,
   "metadata": {},
   "outputs": [],
   "source": [
    "var1 = ''"
   ]
  },
  {
   "cell_type": "code",
   "execution_count": 8,
   "metadata": {},
   "outputs": [
    {
     "name": "stdout",
     "output_type": "stream",
     "text": [
      "<class 'str'>\n"
     ]
    }
   ],
   "source": [
    "print(type(var1))"
   ]
  },
  {
   "cell_type": "code",
   "execution_count": 9,
   "metadata": {},
   "outputs": [],
   "source": [
    "var2 = '[DS, ML, Python]'"
   ]
  },
  {
   "cell_type": "code",
   "execution_count": 10,
   "metadata": {},
   "outputs": [
    {
     "name": "stdout",
     "output_type": "stream",
     "text": [
      "<class 'str'>\n"
     ]
    }
   ],
   "source": [
    "print(type(var2))"
   ]
  },
  {
   "cell_type": "code",
   "execution_count": 11,
   "metadata": {},
   "outputs": [],
   "source": [
    "var3 = ['DS', 'ML', 'Python']"
   ]
  },
  {
   "cell_type": "code",
   "execution_count": 12,
   "metadata": {},
   "outputs": [
    {
     "name": "stdout",
     "output_type": "stream",
     "text": [
      "<class 'list'>\n"
     ]
    }
   ],
   "source": [
    "print(type(var3))"
   ]
  },
  {
   "cell_type": "code",
   "execution_count": 13,
   "metadata": {},
   "outputs": [],
   "source": [
    "var4 = 1"
   ]
  },
  {
   "cell_type": "code",
   "execution_count": 14,
   "metadata": {},
   "outputs": [
    {
     "name": "stdout",
     "output_type": "stream",
     "text": [
      "<class 'int'>\n"
     ]
    }
   ],
   "source": [
    "print(type(var4))"
   ]
  },
  {
   "cell_type": "markdown",
   "metadata": {},
   "source": [
    "### A3."
   ]
  },
  {
   "cell_type": "code",
   "execution_count": 15,
   "metadata": {},
   "outputs": [
    {
     "name": "stdout",
     "output_type": "stream",
     "text": [
      "Division:  1.6666666666666667\n"
     ]
    }
   ],
   "source": [
    "# / is used to divide a by b.\n",
    "a, b = 5, 3\n",
    "print('Division: ', a/b)"
   ]
  },
  {
   "cell_type": "code",
   "execution_count": 16,
   "metadata": {},
   "outputs": [
    {
     "name": "stdout",
     "output_type": "stream",
     "text": [
      "2\n"
     ]
    }
   ],
   "source": [
    "# % 'Modulo' is used to get the remainder\n",
    "print(a%b)"
   ]
  },
  {
   "cell_type": "code",
   "execution_count": 17,
   "metadata": {},
   "outputs": [
    {
     "name": "stdout",
     "output_type": "stream",
     "text": [
      "1\n"
     ]
    }
   ],
   "source": [
    "# // is used to floor divide a by b.\n",
    "print(a//b)"
   ]
  },
  {
   "cell_type": "code",
   "execution_count": 18,
   "metadata": {},
   "outputs": [
    {
     "name": "stdout",
     "output_type": "stream",
     "text": [
      "125\n"
     ]
    }
   ],
   "source": [
    "# ** is used to get 'a' to the power 'b'.\n",
    "print(a ** b)"
   ]
  },
  {
   "cell_type": "markdown",
   "metadata": {},
   "source": [
    "### A4."
   ]
  },
  {
   "cell_type": "code",
   "execution_count": 19,
   "metadata": {},
   "outputs": [],
   "source": [
    "my_list = (11, 11.11, \"String\", ['x', 'y', 'z'], 15.0, 'x', [1 , 2 , 3], 8665, {'a':1}, (2, 4, 6))"
   ]
  },
  {
   "cell_type": "code",
   "execution_count": 20,
   "metadata": {},
   "outputs": [
    {
     "data": {
      "text/plain": [
       "10"
      ]
     },
     "execution_count": 20,
     "metadata": {},
     "output_type": "execute_result"
    }
   ],
   "source": [
    "len(my_list)"
   ]
  },
  {
   "cell_type": "code",
   "execution_count": 21,
   "metadata": {},
   "outputs": [
    {
     "name": "stdout",
     "output_type": "stream",
     "text": [
      "11 <class 'int'>\n",
      "11.11 <class 'float'>\n",
      "String <class 'str'>\n",
      "['x', 'y', 'z'] <class 'list'>\n",
      "15.0 <class 'float'>\n",
      "x <class 'str'>\n",
      "[1, 2, 3] <class 'list'>\n",
      "8665 <class 'int'>\n",
      "{'a': 1} <class 'dict'>\n",
      "(2, 4, 6) <class 'tuple'>\n"
     ]
    }
   ],
   "source": [
    "for i in my_list:\n",
    "    print(i, type(i))"
   ]
  },
  {
   "cell_type": "markdown",
   "metadata": {},
   "source": [
    "### A5."
   ]
  },
  {
   "cell_type": "code",
   "execution_count": 22,
   "metadata": {},
   "outputs": [
    {
     "name": "stdout",
     "output_type": "stream",
     "text": [
      "Is 80 divisible by 2? True\n",
      "The number of times 80 is divisible by 2 is 4\n"
     ]
    }
   ],
   "source": [
    "def is_divisible(a, b):\n",
    "    # Returns True if a is divisible by b, False otherwise.\n",
    "  if a % b == 0:\n",
    "    return True\n",
    "  else:\n",
    "    return False\n",
    "\n",
    "def count_divisibilty(a, b):\n",
    "    # Returns the number of times a is divisible by b.\n",
    "  count = 0\n",
    "  while is_divisible(a, b):\n",
    "    count += 1\n",
    "    a //= b\n",
    "  return count\n",
    "\n",
    "if __name__ == \"__main__\":\n",
    "  a = 80\n",
    "  b = 2\n",
    "  print(\"Is {} divisible by {}? {}\".format(a, b, is_divisible(a, b)))\n",
    "  print(\"The number of times {} is divisible by {} is {}\".format(a, b, count_divisibilty(a, b)))"
   ]
  },
  {
   "cell_type": "markdown",
   "metadata": {},
   "source": [
    "### A6."
   ]
  },
  {
   "cell_type": "code",
   "execution_count": 26,
   "metadata": {},
   "outputs": [
    {
     "name": "stdout",
     "output_type": "stream",
     "text": [
      "1 is not Divisible by 3.\n",
      "2 is not Divisible by 3.\n",
      "3 is divisible by 3.\n",
      "4 is not Divisible by 3.\n",
      "5 is not Divisible by 3.\n",
      "6 is divisible by 3.\n",
      "7 is not Divisible by 3.\n",
      "8 is not Divisible by 3.\n",
      "9 is divisible by 3.\n",
      "10 is not Divisible by 3.\n",
      "11 is not Divisible by 3.\n",
      "12 is divisible by 3.\n",
      "13 is not Divisible by 3.\n",
      "14 is not Divisible by 3.\n",
      "15 is divisible by 3.\n",
      "16 is not Divisible by 3.\n",
      "17 is not Divisible by 3.\n",
      "18 is divisible by 3.\n",
      "19 is not Divisible by 3.\n",
      "20 is not Divisible by 3.\n",
      "21 is divisible by 3.\n",
      "22 is not Divisible by 3.\n",
      "23 is not Divisible by 3.\n",
      "24 is divisible by 3.\n",
      "25 is not Divisible by 3.\n"
     ]
    }
   ],
   "source": [
    "my_list = (1,2,3,4,5,6,7,8,9,10,11,12,13,14,15,16,17,18,19,20,21,22,23,24,25)\n",
    "for i in my_list:\n",
    "    if (i % 3 == 0):\n",
    "        print(i,\"is divisible by 3.\")\n",
    "    else:\n",
    "        print(i,\"is not Divisible by 3.\")"
   ]
  },
  {
   "cell_type": "markdown",
   "metadata": {},
   "source": [
    "### A7."
   ]
  },
  {
   "cell_type": "markdown",
   "metadata": {},
   "source": [
    "#### Mutable data types can be changed after they have been created, while immutable data types cannot be changed.\n",
    "examples: Mutable- list, dictionary, set\n",
    "        Immutable- integer, float, string, tuple"
   ]
  },
  {
   "cell_type": "code",
   "execution_count": 28,
   "metadata": {},
   "outputs": [
    {
     "name": "stdout",
     "output_type": "stream",
     "text": [
      "[1, 2, 3, 11, 5, 6]\n"
     ]
    }
   ],
   "source": [
    "# Mutable Data Type\n",
    "list = [1, 2, 3, 4, 5, 6]\n",
    "# Change the value of index 3 from 4 to 11.\n",
    "list[3] = 11\n",
    "print(list) "
   ]
  },
  {
   "cell_type": "code",
   "execution_count": 29,
   "metadata": {},
   "outputs": [
    {
     "ename": "TypeError",
     "evalue": "'tuple' object does not support item assignment",
     "output_type": "error",
     "traceback": [
      "\u001b[1;31m---------------------------------------------------------------------------\u001b[0m",
      "\u001b[1;31mTypeError\u001b[0m                                 Traceback (most recent call last)",
      "Cell \u001b[1;32mIn[29], line 4\u001b[0m\n\u001b[0;32m      2\u001b[0m \u001b[39mtuple\u001b[39m \u001b[39m=\u001b[39m (\u001b[39m1\u001b[39m, \u001b[39m2\u001b[39m, \u001b[39m3\u001b[39m, \u001b[39m4\u001b[39m, \u001b[39m5\u001b[39m, \u001b[39m6\u001b[39m)\n\u001b[0;32m      3\u001b[0m \u001b[39m# Change the index 3 value from 4 to 11.\u001b[39;00m\n\u001b[1;32m----> 4\u001b[0m \u001b[39mtuple\u001b[39;49m[\u001b[39m3\u001b[39;49m] \u001b[39m=\u001b[39m \u001b[39m11\u001b[39m\n\u001b[0;32m      5\u001b[0m \u001b[39mprint\u001b[39m(\u001b[39mtuple\u001b[39m) \n",
      "\u001b[1;31mTypeError\u001b[0m: 'tuple' object does not support item assignment"
     ]
    }
   ],
   "source": [
    "# Immutable Data Type\n",
    "tuple = (1, 2, 3, 4, 5, 6)\n",
    "#Try to change the value of index 3 from 4 to 11.\n",
    "tuple[3] = 11\n",
    "print(tuple)"
   ]
  },
  {
   "cell_type": "code",
   "execution_count": null,
   "metadata": {},
   "outputs": [],
   "source": []
  }
 ],
 "metadata": {
  "kernelspec": {
   "display_name": "Python 3",
   "language": "python",
   "name": "python3"
  },
  "language_info": {
   "codemirror_mode": {
    "name": "ipython",
    "version": 3
   },
   "file_extension": ".py",
   "mimetype": "text/x-python",
   "name": "python",
   "nbconvert_exporter": "python",
   "pygments_lexer": "ipython3",
   "version": "3.10.4"
  },
  "orig_nbformat": 4
 },
 "nbformat": 4,
 "nbformat_minor": 2
}
