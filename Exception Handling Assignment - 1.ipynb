{
 "cells": [
  {
   "cell_type": "markdown",
   "id": "55c69284-49a5-428e-aa41-8baa76a7d784",
   "metadata": {},
   "source": [
    "#### Q1. What is an Exception in Python? Write the difference between Exceptions and Syntax errors."
   ]
  },
  {
   "cell_type": "markdown",
   "id": "38326259-4e62-48e9-b5c5-afa34c7832e8",
   "metadata": {},
   "source": [
    "#### A1. Exception in Python:\r\n",
    "- An exception in Python is an error that occurs during the execution of a program. It disrupts the normal flow of the program due to unexpected conditions or events.\r\n",
    "- Examples include ZeroDivisionError, FileNotFoundError, TypeError, etc.\r\n",
    "- Exceptions are typically handled using try and except blocks to gracefully manage errors and prevent the program from crashing.\r\n",
    "\r\n",
    "**Difference between Exceptions and Syntax Errors**:\r\n",
    "1. **Timing**:\r\n",
    "   - **Exceptions**: Occur during the execution of the program (runtime).\r\n",
    "   - **Syntax Errors**: Occur during the parsing of the code, before execution (compile-time).\r\n",
    "\r\n",
    "2. **Cause**:\r\n",
    "   - **Exceptions**: Caused by unexpected conditions like invalid input, division by zero, or file not found.\r\n",
    "   - **Syntax Errors**: Caused by mistakes in the syntax of the code, such as missing parentheses, incorrect indentation, or misspelled keywords.\r\n",
    "\r\n",
    "3. **Handling**:\r\n",
    "   - **Exceptions**: Can be handled using try and except blocks to manage errors and continue program execution or provide alternative actions.\r\n",
    "   - **Syntax Errors**: Must be fixed in the code itself before the program can run.m can be executed."
   ]
  },
  {
   "cell_type": "markdown",
   "id": "174e31e7-142a-4c2e-b912-3cfa9d1cbd7f",
   "metadata": {},
   "source": [
    "#### Q2. What happens when an exception is not handled? Explain with an example."
   ]
  },
  {
   "cell_type": "code",
   "execution_count": 1,
   "id": "47bbd15a-de16-4a69-8116-f72e1b11bd0e",
   "metadata": {},
   "outputs": [
    {
     "ename": "ZeroDivisionError",
     "evalue": "division by zero",
     "output_type": "error",
     "traceback": [
      "\u001b[1;31m---------------------------------------------------------------------------\u001b[0m",
      "\u001b[1;31mZeroDivisionError\u001b[0m                         Traceback (most recent call last)",
      "Cell \u001b[1;32mIn[1], line 11\u001b[0m\n\u001b[0;32m      8\u001b[0m     \u001b[38;5;28;01mreturn\u001b[39;00m result\n\u001b[0;32m     10\u001b[0m \u001b[38;5;66;03m# Calling the function with division by zero\u001b[39;00m\n\u001b[1;32m---> 11\u001b[0m result \u001b[38;5;241m=\u001b[39m divide_numbers(\u001b[38;5;241m10\u001b[39m, \u001b[38;5;241m0\u001b[39m)\n\u001b[0;32m     12\u001b[0m \u001b[38;5;28mprint\u001b[39m(result)\n",
      "Cell \u001b[1;32mIn[1], line 7\u001b[0m, in \u001b[0;36mdivide_numbers\u001b[1;34m(a, b)\u001b[0m\n\u001b[0;32m      6\u001b[0m \u001b[38;5;28;01mdef\u001b[39;00m \u001b[38;5;21mdivide_numbers\u001b[39m(a, b):\n\u001b[1;32m----> 7\u001b[0m     result \u001b[38;5;241m=\u001b[39m a \u001b[38;5;241m/\u001b[39m b\n\u001b[0;32m      8\u001b[0m     \u001b[38;5;28;01mreturn\u001b[39;00m result\n",
      "\u001b[1;31mZeroDivisionError\u001b[0m: division by zero"
     ]
    }
   ],
   "source": [
    "# A2. When an exception is not handled in Python, it results in the termination of the program and an error message is displayed that \n",
    "#     provides information about the exception that occurred. \n",
    "\n",
    "# Example: Division by zero exception\n",
    "\n",
    "def divide_numbers(a, b):\n",
    "    result = a / b\n",
    "    return result\n",
    "\n",
    "# Calling the function with division by zero\n",
    "result = divide_numbers(10, 0)\n",
    "print(result)\n"
   ]
  },
  {
   "cell_type": "markdown",
   "id": "aa353a65-c2db-4a33-8061-8870df6549fc",
   "metadata": {},
   "source": [
    "#### Q3. Which Python statements are used to catch and handle exceptions? Explain with an example."
   ]
  },
  {
   "cell_type": "code",
   "execution_count": 2,
   "id": "164942d8-f58a-4f43-a4bf-9d42ba942a47",
   "metadata": {},
   "outputs": [
    {
     "name": "stdin",
     "output_type": "stream",
     "text": [
      "Enter the numerator:  11\n",
      "Enter the denominator:  0\n"
     ]
    },
    {
     "name": "stdout",
     "output_type": "stream",
     "text": [
      "Error: Division by zero is not allowed.\n"
     ]
    }
   ],
   "source": [
    "'''\n",
    "In Python, exceptions can be caught and handled using try and except blocks.\n",
    "These blocks allow you to gracefully manage errors that might occur during the execution of your program. \n",
    "'''\n",
    "\n",
    "def divide_numbers(a, b):\n",
    "    try:\n",
    "        result = a / b\n",
    "        print(f\"Division result: {result}\")\n",
    "    except ZeroDivisionError:\n",
    "        print(\"Error: Division by zero is not allowed.\")\n",
    "    except ValueError:\n",
    "        print(\"Error: Invalid input. Please enter integers.\")\n",
    "    except Exception as e:\n",
    "        print(f\"Unexpected error occurred: {e}\")\n",
    "\n",
    "# Example usage\n",
    "try:\n",
    "    num1 = int(input(\"Enter the numerator: \"))\n",
    "    num2 = int(input(\"Enter the denominator: \"))\n",
    "    divide_numbers(num1, num2)\n",
    "except ValueError:\n",
    "    print(\"Error: Invalid input. Please enter integers for numerator and denominator.\")\n",
    "except Exception as e:\n",
    "    print(f\"Unexpected error occurred outside the function: {e}\")\n"
   ]
  },
  {
   "cell_type": "markdown",
   "id": "958b344c-3965-4eb1-be72-4fece1f7162c",
   "metadata": {},
   "source": [
    "#### Q4. Explain with an example:\n",
    "- a) try and else\n",
    "- b) finally\n",
    "- c) raise"
   ]
  },
  {
   "cell_type": "markdown",
   "id": "39434176-eff9-445f-bd5b-827a6fd94fcf",
   "metadata": {},
   "source": [
    "**A4. a) try and else:**\n",
    "\n",
    "The else block in Python's exception handling allows you to define a block of code that should execute only if no exceptions were raised in the try block. It provides a way to separate the code that should run if the try block executes successfully from the exception handling code in except blocks."
   ]
  },
  {
   "cell_type": "code",
   "execution_count": 4,
   "id": "345a0c8e-7735-4dd1-9786-79084c154be9",
   "metadata": {},
   "outputs": [
    {
     "name": "stdout",
     "output_type": "stream",
     "text": [
      "Division result: 5.0\n"
     ]
    }
   ],
   "source": [
    "def divide_numbers(a, b):\n",
    "    try:\n",
    "        result = a / b\n",
    "    except ZeroDivisionError:\n",
    "        print(\"Error: Division by zero is not allowed.\")\n",
    "    else:\n",
    "        print(f\"Division result: {result}\")\n",
    "\n",
    "# Example usage\n",
    "num1 = 10\n",
    "num2 = 2\n",
    "divide_numbers(num1, num2)\n"
   ]
  },
  {
   "cell_type": "markdown",
   "id": "b196af5a-af17-4bfa-ab04-0f6a8b3433a6",
   "metadata": {},
   "source": [
    "**b) finally:**\n",
    "\n",
    "The finally block in Python's exception handling allows you to define cleanup actions that should be executed regardless of whether an exception occurred or not. It ensures that certain operations, such as closing files or releasing resources, are always performed, even if an exception was raised."
   ]
  },
  {
   "cell_type": "code",
   "execution_count": 5,
   "id": "89453350-a4b4-4077-b04e-5b703cd30149",
   "metadata": {},
   "outputs": [
    {
     "name": "stdout",
     "output_type": "stream",
     "text": [
      "Error: Division by zero is not allowed.\n",
      "Operation completed.\n"
     ]
    }
   ],
   "source": [
    "def divide_numbers(a, b):\n",
    "    try:\n",
    "        result = a / b\n",
    "        print(f\"Division result: {result}\")\n",
    "    except ZeroDivisionError:\n",
    "        print(\"Error: Division by zero is not allowed.\")\n",
    "    finally:\n",
    "        print(\"Operation completed.\")\n",
    "\n",
    "# Example usage\n",
    "num1 = 10\n",
    "num2 = 0\n",
    "divide_numbers(num1, num2)\n"
   ]
  },
  {
   "cell_type": "markdown",
   "id": "06e1ec3c-4b33-4e0b-af5f-f5dc8ba9d708",
   "metadata": {},
   "source": [
    "**c) raise:**\n",
    "\n",
    "The raise statement in Python allows you to raise exceptions programmatically. You can raise built-in exceptions or create custom exceptions to indicate specific error conditions in your code."
   ]
  },
  {
   "cell_type": "code",
   "execution_count": 6,
   "id": "95a985ae-b0b7-484f-a7c8-33cb2e8998bd",
   "metadata": {},
   "outputs": [
    {
     "name": "stdout",
     "output_type": "stream",
     "text": [
      "Access granted.\n",
      "Error: Must be 18 or older to access this content.\n"
     ]
    }
   ],
   "source": [
    "def validate_age(age):\n",
    "    if age < 0:\n",
    "        raise ValueError(\"Age cannot be negative.\")\n",
    "    elif age < 18:\n",
    "        raise ValueError(\"Must be 18 or older to access this content.\")\n",
    "    else:\n",
    "        print(\"Access granted.\")\n",
    "\n",
    "# Example usage\n",
    "try:\n",
    "    validate_age(20)\n",
    "    validate_age(15)\n",
    "except ValueError as e:\n",
    "    print(f\"Error: {e}\")\n"
   ]
  },
  {
   "cell_type": "markdown",
   "id": "0584f06f-0f6b-4951-9f22-ca435ad24bf9",
   "metadata": {},
   "source": [
    "#### Q5. What are Custom Exceptions in Python? Why do we need Custom Exceptions? Explain with an example."
   ]
  },
  {
   "cell_type": "markdown",
   "id": "3fdb0182-4634-400f-a300-2a6038ba4f76",
   "metadata": {},
   "source": [
    "**A5. Custom exceptions** in Python are user-defined exceptions that extend the base Exception class or its subclasses. They allow developers to create specific exception types tailored to their application's needs. Custom exceptions are useful for improving code readability, handling specific error scenarios more effectively, and providing meaningful error messages to users.\n",
    "\n",
    "**Why do we need Custom Exceptions?**\n",
    "\n",
    "1. **Clarity and Readability**: By defining custom exceptions, developers can clearly communicate specific error conditions in their codebase. This makes the code more readable and helps in understanding the intent behind error handling.\n",
    "\n",
    "2. **Granular Error Handling**: Custom exceptions enable more granular error handling. Instead of using generic exceptions like Exception or ValueError, custom exceptions can pinpoint specific errors related to your application domain.\n",
    "\n",
    "3. **Modularity and Reusability**: Custom exceptions promote modularity and reusability. Once defined, they can be used across different parts of the codebase to handle similar error conditions consistently.\n",
    "\n"
   ]
  },
  {
   "cell_type": "code",
   "execution_count": 7,
   "id": "a79de096-4768-4302-950c-bf5ffeadc04b",
   "metadata": {},
   "outputs": [
    {
     "name": "stdout",
     "output_type": "stream",
     "text": [
      "Access granted.\n",
      "Error: Must be 18 or older to access this content.\n"
     ]
    }
   ],
   "source": [
    "class InvalidAgeError(Exception):\n",
    "    def __init__(self, message=\"Invalid age provided.\"):\n",
    "        self.message = message\n",
    "        super().__init__(self.message)\n",
    "\n",
    "def validate_age(age):\n",
    "    if age < 0:\n",
    "        raise InvalidAgeError(\"Age cannot be negative.\")\n",
    "    elif age < 18:\n",
    "        raise InvalidAgeError(\"Must be 18 or older to access this content.\")\n",
    "    else:\n",
    "        print(\"Access granted.\")\n",
    "\n",
    "# Example usage\n",
    "try:\n",
    "    validate_age(20)\n",
    "    validate_age(15)\n",
    "except InvalidAgeError as e:\n",
    "    print(f\"Error: {e}\")\n"
   ]
  },
  {
   "cell_type": "markdown",
   "id": "851eb029-1bff-4140-9ce1-2b0dc1cb2b01",
   "metadata": {},
   "source": [
    "#### Q6. Create a custom exception class. Use this class to handle an exception."
   ]
  },
  {
   "cell_type": "code",
   "execution_count": 8,
   "id": "290ec149-6a16-4b01-9b27-2347cec5983d",
   "metadata": {},
   "outputs": [
    {
     "name": "stdout",
     "output_type": "stream",
     "text": [
      "CustomError occurred: Value cannot be negative.\n"
     ]
    }
   ],
   "source": [
    "# Define a custom exception class\n",
    "class CustomError(Exception):\n",
    "    def __init__(self, message=\"This is a custom error.\"):\n",
    "        self.message = message\n",
    "        super().__init__(self.message)\n",
    "\n",
    "# Example function that raises the custom exception\n",
    "def example_function(value):\n",
    "    if value < 0:\n",
    "        raise CustomError(\"Value cannot be negative.\")\n",
    "\n",
    "# Example usage\n",
    "try:\n",
    "    example_function(-5)\n",
    "except CustomError as e:\n",
    "    print(f\"CustomError occurred: {e.message}\")\n"
   ]
  },
  {
   "cell_type": "code",
   "execution_count": null,
   "id": "fec444a1-6625-4226-b4fb-d4bae9902322",
   "metadata": {},
   "outputs": [],
   "source": []
  }
 ],
 "metadata": {
  "kernelspec": {
   "display_name": "Python 3 (ipykernel)",
   "language": "python",
   "name": "python3"
  },
  "language_info": {
   "codemirror_mode": {
    "name": "ipython",
    "version": 3
   },
   "file_extension": ".py",
   "mimetype": "text/x-python",
   "name": "python",
   "nbconvert_exporter": "python",
   "pygments_lexer": "ipython3",
   "version": "3.11.7"
  }
 },
 "nbformat": 4,
 "nbformat_minor": 5
}
