{
 "cells": [
  {
   "cell_type": "markdown",
   "id": "a8e48313-9745-4598-bf67-50ea7050c801",
   "metadata": {},
   "source": [
    "#### Q1. How do you comment code in Python? What are the different types of comments?"
   ]
  },
  {
   "cell_type": "markdown",
   "id": "d9e2322e-aefe-4793-9f3c-82959bdee678",
   "metadata": {},
   "source": [
    "A1. Comment code provides explanations or notes for yourself or other developers. The interpreter ignores comments and does not affect the execution of the program. There are two types of comments in Python: single-line and multi-line.\n",
    "<ol>\n",
    "    <li> Single-line comments: Use the '#' symbol.</li>\n",
    "    <li> Multi-line comments: Use multiple # symbols or triple-quoted string literals (\"\"\" or ''')</li>\n",
    "</ol>."
   ]
  },
  {
   "cell_type": "markdown",
   "id": "3c80e687-cd0a-46f1-a3da-c8b83f05f685",
   "metadata": {},
   "source": [
    "#### Q2. What are variables in Python? How do you declare and assign values to variables?"
   ]
  },
  {
   "cell_type": "markdown",
   "id": "a2ed7193-1028-4076-aff3-09d889a767ff",
   "metadata": {},
   "source": [
    "A2. Variables in Python are named storage locations used to hold data values. You assign values to variables using the = operator, and Python infers the variable type based on the assigned value. Variable names must start with a letter or underscore and can contain alphanumeric characters and underscores. Python supports multiple assignments and allows swapping variable values easily. Variables can be reassigned to different values during program execution, making Python flexible in handling data."
   ]
  },
  {
   "cell_type": "markdown",
   "id": "96c93a97-a5a3-4a20-b6d5-ac4afafca58d",
   "metadata": {},
   "source": [
    "#### Q3. How do you convert one data type to another in Python?"
   ]
  },
  {
   "cell_type": "markdown",
   "id": "f762aaa5-be8a-4d5b-97ce-1e3adcb98860",
   "metadata": {},
   "source": [
    "A3. There are two types of type conversion: <br>\n",
    "<ol>\n",
    "    <li>\n",
    "        Implicit Type Conversion (Coercion): Automatically converts one data type to another when necessary, such as during arithmetic operations between different types.\n",
    "    </li>\n",
    "    <li>\n",
    "        Explicit Type Conversion (Type Casting): Involves using specific functions like int(), float(), str(), list(), tuple(), set(), and dict() to convert data from one type to another as needed.\n",
    "    </li>\n",
    "</ol>\n",
    "\n",
    "\n"
   ]
  },
  {
   "cell_type": "markdown",
   "id": "f3c6f9e3-0669-4676-951a-7f3f28debd63",
   "metadata": {},
   "source": [
    "#### Q4. How do you write and execute a Python script from the command line?"
   ]
  },
  {
   "cell_type": "markdown",
   "id": "ccd935eb-38ac-4f7d-870b-db2009f3ecb1",
   "metadata": {},
   "source": [
    "A4. To write and execute a Python script from the command line:\r\n",
    "\r\n",
    "1. **Write Your Python Script**:\r\n",
    "   - Use a text editor to write your Python code and save it with a .py extension, like script.py.\r\n",
    "\r\n",
    "2. **Open a Terminal (Command Prompt)**:\r\n",
    "   - Navigate to the directory where your Python script is saved using the cd command.\r\n",
    "\r\n",
    "3. **Execute the Script**:\r\n",
    "   - Type python script.py (or python3 script.py for Python 3) and press Enter to run your script.\r\n",
    "\r\n",
    "4. **View Output**:\r\n",
    "   - Any output your script generates will be displayed in the terminal/command prompt.\r\n",
    "ine interface."
   ]
  },
  {
   "cell_type": "markdown",
   "id": "c4885e18-6b10-48c2-a681-5d4cacf648a6",
   "metadata": {},
   "source": [
    "#### Q5. Given a list my_list = [1, 2, 3, 4, 5], write the code to slice the list and obtain the sub-list [2, 3]."
   ]
  },
  {
   "cell_type": "code",
   "execution_count": 3,
   "id": "7d8796c1-c86f-46fb-9ffc-14e4048b4ce6",
   "metadata": {},
   "outputs": [
    {
     "name": "stdout",
     "output_type": "stream",
     "text": [
      "[2, 3]\n"
     ]
    }
   ],
   "source": [
    "my_list = [1, 2, 3, 4, 5]\n",
    "\n",
    "# Slicing to get [2, 3]\n",
    "sub_list = my_list[1:3]\n",
    "\n",
    "print(sub_list)\n"
   ]
  },
  {
   "cell_type": "markdown",
   "id": "f5c0adbd-2e5a-4b24-9b81-36d2f47ddf84",
   "metadata": {},
   "source": [
    "#### Q6. What is a complex number in mathematics, and how is it represented in Python?"
   ]
  },
  {
   "cell_type": "code",
   "execution_count": 5,
   "id": "b29143ce-4932-4fc3-b0e2-478d5796bc3d",
   "metadata": {},
   "outputs": [
    {
     "name": "stdout",
     "output_type": "stream",
     "text": [
      "(3+4j)\n",
      "(-1.5+2.7j)\n",
      "(2-5j)\n",
      "3.0\n",
      "4.0\n"
     ]
    }
   ],
   "source": [
    "# Declaring complex numbers\n",
    "z1 = 3 + 4j\n",
    "z2 = -1.5 + 2.7j\n",
    "z3 = complex(2, -5)\n",
    "\n",
    "# Printing complex numbers\n",
    "print(z1)\n",
    "print(z2)\n",
    "print(z3)\n",
    "\n",
    "# Accessing real and imaginary parts\n",
    "print(z1.real)\n",
    "print(z1.imag)"
   ]
  },
  {
   "cell_type": "markdown",
   "id": "caad0933-6af7-4933-a0e7-77be3387b3ea",
   "metadata": {},
   "source": [
    "#### Q7. What is the correct way to declare a variable named age and assign the value 25 to it?"
   ]
  },
  {
   "cell_type": "code",
   "execution_count": 6,
   "id": "ff53e581-c6b5-4c81-82de-6d9e77e19299",
   "metadata": {},
   "outputs": [],
   "source": [
    "age = 25"
   ]
  },
  {
   "cell_type": "markdown",
   "id": "8c1b7f48-3c6c-483e-9b01-5709fcc2f9a1",
   "metadata": {},
   "source": [
    "#### Q8. Declare a variable named price and assign the value 9.99 to it. What data type does this variable belong to?"
   ]
  },
  {
   "cell_type": "code",
   "execution_count": 7,
   "id": "cbe7d8cc-507a-4ec3-80c3-bf210f0ecf7b",
   "metadata": {},
   "outputs": [],
   "source": [
    "price = 9.99\n",
    "# Float"
   ]
  },
  {
   "cell_type": "markdown",
   "id": "70fa2c1d-6a5b-4a6c-9b26-a33cf85a6e8c",
   "metadata": {},
   "source": [
    "#### Q9. Create a variable named name and assign your full name to it as a string. How would you print the value of this variable?"
   ]
  },
  {
   "cell_type": "code",
   "execution_count": 8,
   "id": "0e7443bd-4ed4-4899-921f-acb55d800eba",
   "metadata": {},
   "outputs": [
    {
     "name": "stdout",
     "output_type": "stream",
     "text": [
      "Pramod Kumar Maurya\n"
     ]
    }
   ],
   "source": [
    "name = \"Pramod Kumar Maurya\"\n",
    "print(name)"
   ]
  },
  {
   "cell_type": "markdown",
   "id": "da5bde08-0990-49fc-90d8-4d2e56a5a6d0",
   "metadata": {},
   "source": [
    "#### Q10. Given the string \"Hello, World!\", extract the substring \"World\"."
   ]
  },
  {
   "cell_type": "code",
   "execution_count": 10,
   "id": "e1f58bbc-b135-4212-8272-ad23206d89b8",
   "metadata": {},
   "outputs": [
    {
     "data": {
      "text/plain": [
       "'World'"
      ]
     },
     "execution_count": 10,
     "metadata": {},
     "output_type": "execute_result"
    }
   ],
   "source": [
    "str =  \"Hello, World!\"\n",
    "substr = str[7:12]\n",
    "substr"
   ]
  },
  {
   "cell_type": "markdown",
   "id": "b0fe8c33-8956-4529-b825-a4b3ea05b215",
   "metadata": {},
   "source": [
    "#### Q11. Create a variable named \"is_student\" and assign it a boolean value indicating whether you are \n",
    "currently a student or not."
   ]
  },
  {
   "cell_type": "code",
   "execution_count": 12,
   "id": "6f4aff7a-c070-452c-abef-3e65c47963f0",
   "metadata": {},
   "outputs": [],
   "source": [
    "is_student = True"
   ]
  }
 ],
 "metadata": {
  "kernelspec": {
   "display_name": "Python 3 (ipykernel)",
   "language": "python",
   "name": "python3"
  },
  "language_info": {
   "codemirror_mode": {
    "name": "ipython",
    "version": 3
   },
   "file_extension": ".py",
   "mimetype": "text/x-python",
   "name": "python",
   "nbconvert_exporter": "python",
   "pygments_lexer": "ipython3",
   "version": "3.11.7"
  }
 },
 "nbformat": 4,
 "nbformat_minor": 5
}
