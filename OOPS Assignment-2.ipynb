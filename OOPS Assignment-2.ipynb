{
 "cells": [
  {
   "cell_type": "markdown",
   "id": "18185e07-21e6-4fba-b408-7684b05b7713",
   "metadata": {},
   "source": [
    "#### Q1. What is Abstraction in OOps? Explain with an example."
   ]
  },
  {
   "cell_type": "code",
   "execution_count": 1,
   "id": "f286ba3b-8a74-4438-a6f0-fe9acda53e96",
   "metadata": {},
   "outputs": [
    {
     "name": "stdout",
     "output_type": "stream",
     "text": [
      "Deposited $100 to Savings Account. New balance: $100\n",
      "Withdrew $50 from Savings Account. New balance: $50\n",
      "Final balance: $50\n",
      "Deposited $100 to Checking Account. New balance: $100\n",
      "Withdrew $50 from Checking Account. New balance: $50\n",
      "Final balance: $50\n"
     ]
    }
   ],
   "source": [
    "'''\n",
    "Abstraction is one of the four fundamental principles of Object-Oriented Programming (OOP), along with Encapsulation, Inheritance, \n",
    "and Polymorphism. Abstraction is the concept of hiding the complex implementation details and showing only the essential features of the object. \n",
    "It allows the programmer to focus on what the object does instead of how it does it. \n",
    "By abstracting the details, it helps in reducing complexity and enhancing the understanding of the system.\n",
    "'''\n",
    "# For example, we will use abstraction to hide the details of different types of bank accounts and their specific operations.\n",
    "\n",
    "from abc import ABC, abstractmethod\n",
    "\n",
    "# Abstract base class\n",
    "class BankAccount(ABC):\n",
    "    @abstractmethod\n",
    "    def deposit(self, amount):\n",
    "        pass\n",
    "\n",
    "    @abstractmethod\n",
    "    def withdraw(self, amount):\n",
    "        pass\n",
    "\n",
    "    @abstractmethod\n",
    "    def get_balance(self):\n",
    "        pass\n",
    "\n",
    "# Concrete class for a Savings account\n",
    "class SavingsAccount(BankAccount):\n",
    "    def __init__(self):\n",
    "        self.balance = 0\n",
    "\n",
    "    def deposit(self, amount):\n",
    "        self.balance += amount\n",
    "        print(f\"Deposited ${amount} to Savings Account. New balance: ${self.balance}\")\n",
    "\n",
    "    def withdraw(self, amount):\n",
    "        if amount > self.balance:\n",
    "            print(\"Insufficient balance in Savings Account\")\n",
    "        else:\n",
    "            self.balance -= amount\n",
    "            print(f\"Withdrew ${amount} from Savings Account. New balance: ${self.balance}\")\n",
    "\n",
    "    def get_balance(self):\n",
    "        return self.balance\n",
    "\n",
    "# Concrete class for a Checking account\n",
    "class CheckingAccount(BankAccount):\n",
    "    def __init__(self):\n",
    "        self.balance = 0\n",
    "\n",
    "    def deposit(self, amount):\n",
    "        self.balance += amount\n",
    "        print(f\"Deposited ${amount} to Checking Account. New balance: ${self.balance}\")\n",
    "\n",
    "    def withdraw(self, amount):\n",
    "        if amount > self.balance:\n",
    "            print(\"Insufficient balance in Checking Account\")\n",
    "        else:\n",
    "            self.balance -= amount\n",
    "            print(f\"Withdrew ${amount} from Checking Account. New balance: ${self.balance}\")\n",
    "\n",
    "    def get_balance(self):\n",
    "        return self.balance\n",
    "\n",
    "# Client code\n",
    "def account_operations(account: BankAccount):\n",
    "    account.deposit(100)\n",
    "    account.withdraw(50)\n",
    "    print(f\"Final balance: ${account.get_balance()}\")\n",
    "\n",
    "# Using the abstraction\n",
    "savings_account = SavingsAccount()\n",
    "checking_account = CheckingAccount()\n",
    "\n",
    "account_operations(savings_account)\n",
    "account_operations(checking_account)\n"
   ]
  },
  {
   "cell_type": "markdown",
   "id": "54ddd5db-817a-4805-a5d8-c4fba52b7e9d",
   "metadata": {},
   "source": [
    "#### Q2. Differentiate between Abstraction and Encapsulation. Explain with an example."
   ]
  },
  {
   "cell_type": "markdown",
   "id": "20a6c51b-bfc5-4445-b281-db8adfaaaeff",
   "metadata": {},
   "source": [
    "#### A2. Abstraction vs Encapsulation\n",
    "**Abstaction:**\n",
    "\n",
    "- Definition: Hides complex implementation details, showing only essential features.\n",
    "- Purpose: Simplifies the design by focusing on what an object does.\n",
    "- Example: A BankAccount abstract class with methods deposit(), withdraw(), and get_balance().\n",
    "\n",
    "**Encapsulation:**\n",
    "\n",
    "- Definition: Bundles data and methods into a single unit (class) and restricts access to some components.\n",
    "- Purpose: Protects the internal state and ensures data integrity.\n",
    "- Example: A SavingsAccount class with a private __balance attribute and public methods to modify and access the balance."
   ]
  },
  {
   "cell_type": "code",
   "execution_count": 2,
   "id": "71e5549a-4c46-4c7f-9567-165a6adf6bbe",
   "metadata": {},
   "outputs": [],
   "source": [
    "# Abstraction\n",
    "\n",
    "from abc import ABC, abstractmethod\n",
    "\n",
    "class BankAccount(ABC):\n",
    "    @abstractmethod\n",
    "    def deposit(self, amount):\n",
    "        pass\n",
    "\n",
    "    @abstractmethod\n",
    "    def withdraw(self, amount):\n",
    "        pass\n",
    "\n",
    "    @abstractmethod\n",
    "    def get_balance(self):\n",
    "        pass\n"
   ]
  },
  {
   "cell_type": "code",
   "execution_count": 3,
   "id": "c3d3203f-afbc-45dd-90a0-9eb13aaa2bdb",
   "metadata": {},
   "outputs": [
    {
     "name": "stdout",
     "output_type": "stream",
     "text": [
      "50\n"
     ]
    }
   ],
   "source": [
    "# Encapsulation\n",
    "\n",
    "class SavingsAccount(BankAccount):\n",
    "    def __init__(self):\n",
    "        self.__balance = 0  # Private attribute\n",
    "\n",
    "    def deposit(self, amount):\n",
    "        if amount > 0:\n",
    "            self.__balance += amount\n",
    "\n",
    "    def withdraw(self, amount):\n",
    "        if amount <= self.__balance:\n",
    "            self.__balance -= amount\n",
    "\n",
    "    def get_balance(self):\n",
    "        return self.__balance\n",
    "\n",
    "# Using the abstraction and encapsulation\n",
    "account = SavingsAccount()\n",
    "account.deposit(100)\n",
    "account.withdraw(50)\n",
    "print(account.get_balance())\n"
   ]
  },
  {
   "cell_type": "markdown",
   "id": "3c21c962-0e5d-44cd-ad43-51d2a1092a5e",
   "metadata": {},
   "source": [
    "#### Q3. What is abc module in python? Why is it used?"
   ]
  },
  {
   "cell_type": "markdown",
   "id": "e3d5ee79-4847-47b9-a5cb-cf8813c658a4",
   "metadata": {},
   "source": [
    "#### A3. 'abc' Module in Python\n",
    "1. Purpose:\n",
    "\n",
    "- The abc module stands for Abstract Base Classes.\n",
    "- It provides tools to define abstract base classes that enforce a certain interface for subclasses.\n",
    "\n",
    "2. Key Components:\n",
    "\n",
    "- ABC (Abstract Base Class): A class that cannot be instantiated directly and may contain abstract methods.\n",
    "- @abstractmethod: Decorator used to define abstract methods within an abstract base class. These methods must be implemented by subclasses.\n",
    "\n",
    "3. Usage:\n",
    "\n",
    "- Define a blueprint for subclasses by specifying required methods.\n",
    "- Ensures that subclasses implement specific methods, providing a clear contract or interface.\n",
    "\n",
    "4. Benefits:\n",
    "\n",
    "- Enforcement: Ensures subclasses adhere to a specific structure.\n",
    "- Clarity: Defines a common interface, making code more predictable and maintainable.\n",
    "- Prevention: Prevents accidental instantiation of incomplete classes.\n"
   ]
  },
  {
   "cell_type": "markdown",
   "id": "2b362263-fc6b-40a5-a2d1-880b28e407b1",
   "metadata": {},
   "source": [
    "#### Q4. How can we achieve data abstraction?"
   ]
  },
  {
   "cell_type": "markdown",
   "id": "dad66b79-d90d-46c4-a7e4-ba69241bae39",
   "metadata": {},
   "source": [
    "#### A4. To achieve data abstraction in programming:\n",
    "\n",
    "1. **Encapsulation**: Bundle data (attributes) and methods (functions) into a single unit (class), hiding internal details and exposing only necessary interfaces.\n",
    "   \n",
    "2. **Access Modifiers**: Use public, private, and protected modifiers to control visibility and access to class members.\n",
    "   \n",
    "3. **Abstract Classes and Interfaces**: Define blueprints for classes (abstract classes) or method signatures (interfaces) without implementations, promoting consistency and flexibility.\n",
    "   \n",
    "4. **Method Overriding and Overloading**: Modify inherited methods in subclasses (overriding) or define methods with the same name but different parameters (overloading) to enhance functionality.\n",
    "   \n",
    "5. **Design Patterns**: Implement patterns like Factory, Singleton, and Facade to manage object creation, ensure single instances, and simplify complex systems.\n"
   ]
  },
  {
   "cell_type": "markdown",
   "id": "c28c51a4-f627-4715-89f2-dad967d66cbb",
   "metadata": {},
   "source": [
    "#### Q5. Can we create an instance of an abstract class? Explain your answer."
   ]
  },
  {
   "cell_type": "markdown",
   "id": "5487dda9-fcd8-4b0a-9884-d11f0ae0ad10",
   "metadata": {},
   "source": [
    "A5. No, we cannot directly create an instance of an abstract class in Python.\n",
    "\n",
    "- **Abstract classes** are defined using the abc module's ABC class and abstractmethod decorator.\n",
    "- They cannot be instantiated directly because they typically contain abstract methods without implementations.\n",
    "- Their main purpose is to serve as blueprints or templates for subclasses to inherit and implement.\n"
   ]
  },
  {
   "cell_type": "code",
   "execution_count": null,
   "id": "f630ae8a-dfc8-4347-bdfb-73df620e6d2a",
   "metadata": {},
   "outputs": [],
   "source": []
  }
 ],
 "metadata": {
  "kernelspec": {
   "display_name": "Python 3 (ipykernel)",
   "language": "python",
   "name": "python3"
  },
  "language_info": {
   "codemirror_mode": {
    "name": "ipython",
    "version": 3
   },
   "file_extension": ".py",
   "mimetype": "text/x-python",
   "name": "python",
   "nbconvert_exporter": "python",
   "pygments_lexer": "ipython3",
   "version": "3.11.7"
  }
 },
 "nbformat": 4,
 "nbformat_minor": 5
}
